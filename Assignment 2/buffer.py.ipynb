{
 "cells": [
  {
   "cell_type": "code",
   "execution_count": 5,
   "metadata": {},
   "outputs": [
    {
     "name": "stdout",
     "output_type": "stream",
     "text": [
      "3.3\n"
     ]
    }
   ],
   "source": [
    "import arcpy\n",
    "print(arcpy.GetInstallInfo()['Version'])"
   ]
  },
  {
   "cell_type": "code",
   "execution_count": 6,
   "metadata": {},
   "outputs": [
    {
     "data": {
      "text/html": [
       "<div class='gpresult'><h2>Messages</h2><div id='messages'>Start Time: Tuesday, September 17, 2024 10:20:03 AM<br>WARNING 000635: Skipping feature 149 because of NULL or EMPTY geometry.<br>WARNING 000635: Skipping feature 174 because of NULL or EMPTY geometry.<br>WARNING 000635: Skipping feature 263 because of NULL or EMPTY geometry.<br>WARNING 000635: Skipping feature 277 because of NULL or EMPTY geometry.<br>WARNING 000635: Skipping feature 280 because of NULL or EMPTY geometry.<br>WARNING 000635: Skipping feature 283 because of NULL or EMPTY geometry.<br>WARNING 000635: Skipping feature 284 because of NULL or EMPTY geometry.<br>WARNING 000635: Skipping feature 295 because of NULL or EMPTY geometry.<br>WARNING 000635: Skipping feature 296 because of NULL or EMPTY geometry.<br>WARNING 000635: Skipping feature 302 because of NULL or EMPTY geometry.<br>WARNING 000635: Skipping feature 303 because of NULL or EMPTY geometry.<br>WARNING 000635: Skipping feature 346 because of NULL or EMPTY geometry.<br>WARNING 000635: Skipping feature 443 because of NULL or EMPTY geometry.<br>WARNING 000635: Skipping feature 821 because of NULL or EMPTY geometry.<br>WARNING 000635: Skipping feature 830 because of NULL or EMPTY geometry.<br>WARNING 000635: Skipping feature 831 because of NULL or EMPTY geometry.<br>WARNING 000635: Skipping feature 836 because of NULL or EMPTY geometry.<br>WARNING 000635: Skipping feature 840 because of NULL or EMPTY geometry.<br>WARNING 000635: Skipping feature 841 because of NULL or EMPTY geometry.<br>WARNING 000635: Skipping feature 845 because of NULL or EMPTY geometry.<br>WARNING 000635: Skipping feature 856 because of NULL or EMPTY geometry.<br>WARNING 000635: Skipping feature 859 because of NULL or EMPTY geometry.<br>WARNING 000635: Skipping feature 871 because of NULL or EMPTY geometry.<br>WARNING 000635: Skipping feature 889 because of NULL or EMPTY geometry.<br>WARNING 000635: Skipping feature 890 because of NULL or EMPTY geometry.<br>WARNING 000635: Skipping feature 893 because of NULL or EMPTY geometry.<br>WARNING 000635: Skipping feature 899 because of NULL or EMPTY geometry.<br>WARNING 000635: Skipping feature 903 because of NULL or EMPTY geometry.<br>WARNING 000635: Skipping feature 908 because of NULL or EMPTY geometry.<br>WARNING 000635: Skipping feature 912 because of NULL or EMPTY geometry.<br>WARNING 000635: Skipping feature 944 because of NULL or EMPTY geometry.<br>WARNING 000635: Skipping feature 987 because of NULL or EMPTY geometry.<br>WARNING 000635: Skipping feature 1002 because of NULL or EMPTY geometry.<br>WARNING 000635: Skipping feature 1027 because of NULL or EMPTY geometry.<br>WARNING 000635: Skipping feature 1032 because of NULL or EMPTY geometry.<br>WARNING 000635: Skipping feature 1046 because of NULL or EMPTY geometry.<br>WARNING 000635: Skipping feature 1050 because of NULL or EMPTY geometry.<br>WARNING 000635: Skipping feature 1057 because of NULL or EMPTY geometry.<br>WARNING 000635: Skipping feature 1059 because of NULL or EMPTY geometry.<br>WARNING 000635: Skipping feature 1060 because of NULL or EMPTY geometry.<br>WARNING 000635: Skipping feature 1061 because of NULL or EMPTY geometry.<br>WARNING 000635: Skipping feature 1062 because of NULL or EMPTY geometry.<br>WARNING 000635: Skipping feature 1072 because of NULL or EMPTY geometry.<br>WARNING 000635: Skipping feature 1095 because of NULL or EMPTY geometry.<br>WARNING 000635: Skipping feature 1116 because of NULL or EMPTY geometry.<br>WARNING 000635: Skipping feature 1133 because of NULL or EMPTY geometry.<br>WARNING 000635: Skipping feature 1331 because of NULL or EMPTY geometry.<br>WARNING 000635: Skipping feature 1340 because of NULL or EMPTY geometry.<br>WARNING 000635: Skipping feature 1347 because of NULL or EMPTY geometry.<br>WARNING 000635: Skipping feature 1350 because of NULL or EMPTY geometry.<br>WARNING 000635: Skipping feature 1351 because of NULL or EMPTY geometry.<br>WARNING 000635: Skipping feature 1352 because of NULL or EMPTY geometry.<br>WARNING 000635: Skipping feature 1353 because of NULL or EMPTY geometry.<br>WARNING 000635: Skipping feature 1354 because of NULL or EMPTY geometry.<br>WARNING 000635: Skipping feature 1355 because of NULL or EMPTY geometry.<br>WARNING 000635: Skipping feature 1356 because of NULL or EMPTY geometry.<br>WARNING 000635: Skipping feature 1357 because of NULL or EMPTY geometry.<br>WARNING 000635: Skipping feature 1358 because of NULL or EMPTY geometry.<br>WARNING 000635: Skipping feature 1359 because of NULL or EMPTY geometry.<br>WARNING 000635: Skipping feature 1362 because of NULL or EMPTY geometry.<br>WARNING 000635: Skipping feature 1369 because of NULL or EMPTY geometry.<br>WARNING 000635: Skipping feature 1373 because of NULL or EMPTY geometry.<br>WARNING 000635: Skipping feature 1375 because of NULL or EMPTY geometry.<br>WARNING 000635: Skipping feature 1382 because of NULL or EMPTY geometry.<br>WARNING 000635: Skipping feature 1446 because of NULL or EMPTY geometry.<br>WARNING 000635: Skipping feature 1447 because of NULL or EMPTY geometry.<br>WARNING 000635: Skipping feature 1553 because of NULL or EMPTY geometry.<br>WARNING 000635: Skipping feature 1557 because of NULL or EMPTY geometry.<br>WARNING 000635: Skipping feature 1563 because of NULL or EMPTY geometry.<br>Succeeded at Tuesday, September 17, 2024 10:20:03 AM (Elapsed Time: 0.50 seconds)<br></div><div id = 'default' /></div></div>"
      ],
      "text/plain": [
       "<Result '.\\\\retail_buffer.shp'>"
      ]
     },
     "execution_count": 6,
     "metadata": {},
     "output_type": "execute_result"
    }
   ],
   "source": [
    "import arcpy\n",
    "arcpy.analysis.Buffer(\n",
    "    in_features=\"no_retail.shp\",\n",
    "    out_feature_class=\"./retail_buffer.shp\",\n",
    "    buffer_distance_or_field=\"500 Meters\",\n",
    "    line_side=\"FULL\",\n",
    "    line_end_type=\"ROUND\",\n",
    "    dissolve_option=\"NONE\",\n",
    "    dissolve_field=None,\n",
    "    method=\"PLANAR\"\n",
    ")"
   ]
  },
  {
   "cell_type": "code",
   "execution_count": 7,
   "metadata": {},
   "outputs": [
    {
     "ename": "ExecuteError",
     "evalue": "Failed to execute. Parameters are not valid.\nERROR 000725: Output Feature Class: Dataset .\\retail_buffer.shp already exists.\nFailed to execute (Buffer).\n",
     "output_type": "error",
     "traceback": [
      "\u001b[1;31m---------------------------------------------------------------------------\u001b[0m",
      "\u001b[1;31mExecuteError\u001b[0m                              Traceback (most recent call last)",
      "\u001b[1;32m~\\AppData\\Local\\Temp\\ipykernel_10008\\190715981.py\u001b[0m in \u001b[0;36m<cell line: 0>\u001b[1;34m()\u001b[0m\n\u001b[0;32m      1\u001b[0m \u001b[1;32mimport\u001b[0m \u001b[0marcpy\u001b[0m\u001b[1;33m\u001b[0m\u001b[1;33m\u001b[0m\u001b[0m\n\u001b[1;32m----> 2\u001b[1;33m arcpy.analysis.Buffer(\n\u001b[0m\u001b[0;32m      3\u001b[0m     \u001b[0min_features\u001b[0m\u001b[1;33m=\u001b[0m\u001b[1;34m\"no_retail.shp\"\u001b[0m\u001b[1;33m,\u001b[0m\u001b[1;33m\u001b[0m\u001b[1;33m\u001b[0m\u001b[0m\n\u001b[0;32m      4\u001b[0m     \u001b[0mout_feature_class\u001b[0m\u001b[1;33m=\u001b[0m\u001b[1;34m\"./retail_buffer.shp\"\u001b[0m\u001b[1;33m,\u001b[0m\u001b[1;33m\u001b[0m\u001b[1;33m\u001b[0m\u001b[0m\n\u001b[0;32m      5\u001b[0m     \u001b[0mbuffer_distance_or_field\u001b[0m\u001b[1;33m=\u001b[0m\u001b[1;34m\"500 Meters\"\u001b[0m\u001b[1;33m,\u001b[0m\u001b[1;33m\u001b[0m\u001b[1;33m\u001b[0m\u001b[0m\n",
      "\u001b[1;32m~\\AppData\\Local\\Programs\\ArcGIS\\Pro\\Resources\\ArcPy\\arcpy\\analysis.py\u001b[0m in \u001b[0;36mBuffer\u001b[1;34m(in_features, out_feature_class, buffer_distance_or_field, line_side, line_end_type, dissolve_option, dissolve_field, method)\u001b[0m\n\u001b[0;32m   1284\u001b[0m         \u001b[1;32mreturn\u001b[0m \u001b[0mretval\u001b[0m\u001b[1;33m\u001b[0m\u001b[1;33m\u001b[0m\u001b[0m\n\u001b[0;32m   1285\u001b[0m     \u001b[1;32mexcept\u001b[0m \u001b[0mException\u001b[0m \u001b[1;32mas\u001b[0m \u001b[0me\u001b[0m\u001b[1;33m:\u001b[0m\u001b[1;33m\u001b[0m\u001b[1;33m\u001b[0m\u001b[0m\n\u001b[1;32m-> 1286\u001b[1;33m         \u001b[1;32mraise\u001b[0m \u001b[0me\u001b[0m\u001b[1;33m\u001b[0m\u001b[1;33m\u001b[0m\u001b[0m\n\u001b[0m\u001b[0;32m   1287\u001b[0m \u001b[1;33m\u001b[0m\u001b[0m\n\u001b[0;32m   1288\u001b[0m \u001b[1;33m@\u001b[0m\u001b[0mgptooldoc\u001b[0m\u001b[1;33m(\u001b[0m\u001b[1;34m'CreateThiessenPolygons_analysis'\u001b[0m\u001b[1;33m,\u001b[0m \u001b[1;32mNone\u001b[0m\u001b[1;33m)\u001b[0m\u001b[1;33m\u001b[0m\u001b[1;33m\u001b[0m\u001b[0m\n",
      "\u001b[1;32m~\\AppData\\Local\\Programs\\ArcGIS\\Pro\\Resources\\ArcPy\\arcpy\\analysis.py\u001b[0m in \u001b[0;36mBuffer\u001b[1;34m(in_features, out_feature_class, buffer_distance_or_field, line_side, line_end_type, dissolve_option, dissolve_field, method)\u001b[0m\n\u001b[0;32m   1281\u001b[0m     \u001b[1;32mfrom\u001b[0m \u001b[0marcpy\u001b[0m\u001b[1;33m.\u001b[0m\u001b[0marcobjects\u001b[0m\u001b[1;33m.\u001b[0m\u001b[0marcobjectconversion\u001b[0m \u001b[1;32mimport\u001b[0m \u001b[0mconvertArcObjectToPythonObject\u001b[0m\u001b[1;33m\u001b[0m\u001b[1;33m\u001b[0m\u001b[0m\n\u001b[0;32m   1282\u001b[0m     \u001b[1;32mtry\u001b[0m\u001b[1;33m:\u001b[0m\u001b[1;33m\u001b[0m\u001b[1;33m\u001b[0m\u001b[0m\n\u001b[1;32m-> 1283\u001b[1;33m         \u001b[0mretval\u001b[0m \u001b[1;33m=\u001b[0m \u001b[0mconvertArcObjectToPythonObject\u001b[0m\u001b[1;33m(\u001b[0m\u001b[0mgp\u001b[0m\u001b[1;33m.\u001b[0m\u001b[0mBuffer_analysis\u001b[0m\u001b[1;33m(\u001b[0m\u001b[1;33m*\u001b[0m\u001b[0mgp_fixargs\u001b[0m\u001b[1;33m(\u001b[0m\u001b[1;33m(\u001b[0m\u001b[0min_features\u001b[0m\u001b[1;33m,\u001b[0m \u001b[0mout_feature_class\u001b[0m\u001b[1;33m,\u001b[0m \u001b[0mbuffer_distance_or_field\u001b[0m\u001b[1;33m,\u001b[0m \u001b[0mline_side\u001b[0m\u001b[1;33m,\u001b[0m \u001b[0mline_end_type\u001b[0m\u001b[1;33m,\u001b[0m \u001b[0mdissolve_option\u001b[0m\u001b[1;33m,\u001b[0m \u001b[0mdissolve_field\u001b[0m\u001b[1;33m,\u001b[0m \u001b[0mmethod\u001b[0m\u001b[1;33m)\u001b[0m\u001b[1;33m,\u001b[0m \u001b[1;32mTrue\u001b[0m\u001b[1;33m)\u001b[0m\u001b[1;33m)\u001b[0m\u001b[1;33m)\u001b[0m\u001b[1;33m\u001b[0m\u001b[1;33m\u001b[0m\u001b[0m\n\u001b[0m\u001b[0;32m   1284\u001b[0m         \u001b[1;32mreturn\u001b[0m \u001b[0mretval\u001b[0m\u001b[1;33m\u001b[0m\u001b[1;33m\u001b[0m\u001b[0m\n\u001b[0;32m   1285\u001b[0m     \u001b[1;32mexcept\u001b[0m \u001b[0mException\u001b[0m \u001b[1;32mas\u001b[0m \u001b[0me\u001b[0m\u001b[1;33m:\u001b[0m\u001b[1;33m\u001b[0m\u001b[1;33m\u001b[0m\u001b[0m\n",
      "\u001b[1;32m~\\AppData\\Local\\Programs\\ArcGIS\\Pro\\Resources\\ArcPy\\arcpy\\geoprocessing\\_base.py\u001b[0m in \u001b[0;36m<lambda>\u001b[1;34m(*args)\u001b[0m\n\u001b[0;32m    510\u001b[0m         \u001b[0mval\u001b[0m \u001b[1;33m=\u001b[0m \u001b[0mgetattr\u001b[0m\u001b[1;33m(\u001b[0m\u001b[0mself\u001b[0m\u001b[1;33m.\u001b[0m\u001b[0m_gp\u001b[0m\u001b[1;33m,\u001b[0m \u001b[0mattr\u001b[0m\u001b[1;33m)\u001b[0m\u001b[1;33m\u001b[0m\u001b[1;33m\u001b[0m\u001b[0m\n\u001b[0;32m    511\u001b[0m         \u001b[1;32mif\u001b[0m \u001b[0mcallable\u001b[0m\u001b[1;33m(\u001b[0m\u001b[0mval\u001b[0m\u001b[1;33m)\u001b[0m\u001b[1;33m:\u001b[0m\u001b[1;33m\u001b[0m\u001b[1;33m\u001b[0m\u001b[0m\n\u001b[1;32m--> 512\u001b[1;33m             \u001b[1;32mreturn\u001b[0m \u001b[1;32mlambda\u001b[0m \u001b[1;33m*\u001b[0m\u001b[0margs\u001b[0m\u001b[1;33m:\u001b[0m \u001b[0mval\u001b[0m\u001b[1;33m(\u001b[0m\u001b[1;33m*\u001b[0m\u001b[0mgp_fixargs\u001b[0m\u001b[1;33m(\u001b[0m\u001b[0margs\u001b[0m\u001b[1;33m,\u001b[0m \u001b[1;32mTrue\u001b[0m\u001b[1;33m)\u001b[0m\u001b[1;33m)\u001b[0m\u001b[1;33m\u001b[0m\u001b[1;33m\u001b[0m\u001b[0m\n\u001b[0m\u001b[0;32m    513\u001b[0m         \u001b[1;32melse\u001b[0m\u001b[1;33m:\u001b[0m\u001b[1;33m\u001b[0m\u001b[1;33m\u001b[0m\u001b[0m\n\u001b[0;32m    514\u001b[0m             \u001b[1;32mreturn\u001b[0m \u001b[0mconvertArcObjectToPythonObject\u001b[0m\u001b[1;33m(\u001b[0m\u001b[0mval\u001b[0m\u001b[1;33m)\u001b[0m\u001b[1;33m\u001b[0m\u001b[1;33m\u001b[0m\u001b[0m\n",
      "\u001b[1;31mExecuteError\u001b[0m: Failed to execute. Parameters are not valid.\nERROR 000725: Output Feature Class: Dataset .\\retail_buffer.shp already exists.\nFailed to execute (Buffer).\n"
     ]
    }
   ],
   "source": [
    "import arcpy\n",
    "arcpy.analysis.Buffer(\n",
    "    in_features=\"no_retail.shp\",\n",
    "    out_feature_class=\"./retail_buffer.shp\",\n",
    "    buffer_distance_or_field=\"500 Meters\",\n",
    "    line_side=\"FULL\",\n",
    "    line_end_type=\"ROUND\",\n",
    "    dissolve_option=\"NONE\",\n",
    "    dissolve_field=None,\n",
    "    method=\"PLANAR\"\n",
    ")"
   ]
  }
 ],
 "metadata": {
  "kernelspec": {
   "display_name": "Python 3",
   "language": "python",
   "name": "python3"
  },
  "language_info": {
   "codemirror_mode": {
    "name": "ipython",
    "version": 3
   },
   "file_extension": ".py",
   "mimetype": "text/x-python",
   "name": "python",
   "nbconvert_exporter": "python",
   "pygments_lexer": "ipython3",
   "version": "3.11.8"
  }
 },
 "nbformat": 4,
 "nbformat_minor": 2
}
